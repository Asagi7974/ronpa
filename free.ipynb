{
 "cells": [
  {
   "cell_type": "code",
   "execution_count": 1,
   "metadata": {},
   "outputs": [],
   "source": [
    "import numpy as np"
   ]
  },
  {
   "cell_type": "code",
   "execution_count": 13,
   "metadata": {},
   "outputs": [],
   "source": [
    "arr = np.random.randn(3, 4)\n",
    "l = [list(map(float, row)) for row in arr]"
   ]
  },
  {
   "cell_type": "code",
   "execution_count": 35,
   "metadata": {},
   "outputs": [],
   "source": [
    "import numpy as np\n",
    "from sklearn.decomposition import PCA\n",
    "from sklearn.preprocessing import MinMaxScaler\n",
    "\n",
    "def clustering(X: np.ndarray) -> np.ndarray:\n",
    "    \"\"\"クラスタリング. k-means?\"\"\"\n",
    "    k = int(X.shape[0]/8)\n",
    "    X_size,n_features = X.shape\n",
    "    centroids  = X[np.random.choice(X_size,k)]\n",
    "    new_centroids = np.zeros((k, n_features))\n",
    "    cluster = np.zeros(X_size)\n",
    "    for epoch in range(350):\n",
    "        for i in range(X_size):\n",
    "            distances = np.sum((centroids - X[i]) ** 2, axis=1)\n",
    "            cluster[i] = np.argsort(distances)[0]\n",
    "        for j in range(k):\n",
    "            new_centroids[j] = X[cluster==j].mean(axis=0)\n",
    "        if np.sum(new_centroids == centroids) == k:\n",
    "            print(\"break\")\n",
    "            break\n",
    "        centroids =  new_centroids\n",
    "    return cluster\n",
    "\n",
    "def pca(data: np.ndarray) -> np.ndarray:\n",
    "    \"\"\"次元削減\"\"\"\n",
    "    pca=PCA(n_components=2)\n",
    "    data=pca.fit_transform(data)\n",
    "    return data\n",
    "\n",
    "def normalize(X: np.ndarray) -> np.ndarray:\n",
    "    return MinMaxScaler().fit_transform(X)"
   ]
  }
 ],
 "metadata": {
  "kernelspec": {
   "display_name": "Python 3.9.13 ('chaos')",
   "language": "python",
   "name": "python3"
  },
  "language_info": {
   "codemirror_mode": {
    "name": "ipython",
    "version": 3
   },
   "file_extension": ".py",
   "mimetype": "text/x-python",
   "name": "python",
   "nbconvert_exporter": "python",
   "pygments_lexer": "ipython3",
   "version": "3.9.13"
  },
  "orig_nbformat": 4,
  "vscode": {
   "interpreter": {
    "hash": "f2e3b2579315a78b6919c57a9664a6721d3648d6169c979fec10eef27f9b886c"
   }
  }
 },
 "nbformat": 4,
 "nbformat_minor": 2
}
